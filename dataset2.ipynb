{
 "cells": [
  {
   "cell_type": "code",
   "execution_count": 33,
   "metadata": {},
   "outputs": [],
   "source": [
    "import pandas as pd\n",
    "import numpy as np\n",
    "import datetime as dt"
   ]
  },
  {
   "cell_type": "code",
   "execution_count": 34,
   "metadata": {},
   "outputs": [],
   "source": [
    "#df = pd.read_csv('../newdata/newdata/JR201611_04-09_5.csv',sep=',',encoding='cp932', index_col=0) #index_col=0 : unnamedを省ける\n",
    "df = pd.read_csv('../newdata/newdata/JR201611_04-09.csv',sep=',',encoding='cp932', index_col=0) #index_col=0 : unnamedを省ける\n",
    "df2 = pd.read_csv('../newdata/newdata/JR201611_04-09_2.csv',sep=',',encoding='cp932', index_col=0) #index_col=0 : unnamedを省ける\n",
    "df3 = pd.read_csv('../newdata/newdata/JR201611_04-09_6.csv',sep=',',encoding='cp932', index_col=0) #index_col=0 : unnamedを省ける\n",
    "df6 = pd.read_csv('../newdata/newdata/JR201611_04-09_6.csv',sep=',',encoding='cp932', index_col=0) #index_col=0 : unnamedを省ける\n",
    "df10 = pd.read_csv('../newdata/newdata/JR201611_04-09_10.csv',sep=',',encoding='cp932', index_col=0) #index_col=0 : unnamedを省ける\n",
    "df11 = pd.read_csv('../newdata/newdata/JR201611_04-09_11.csv',sep=',',encoding='cp932', index_col=0) #index_col=0 : unnamedを省ける\n",
    "df12 = pd.read_csv('../newdata/newdata/JR201611_04-09_12.csv',sep=',',encoding='cp932', index_col=0) #index_col=0 : unnamedを省ける\n",
    "df13 = pd.read_csv('../newdata/newdata/JR201611_04-09_13.csv',sep=',',encoding='cp932', index_col=0) #index_col=0 : unnamedを省ける\n",
    "df14 = pd.read_csv('../newdata/newdata/JR201611_04-09_14.csv',sep=',',encoding='cp932', index_col=0) #index_col=0 : unnamedを省ける\n",
    "df15 = pd.read_csv('../newdata/newdata/JR201611_04-09_15.csv',sep=',',encoding='cp932', index_col=0) #index_col=0 : unnamedを省ける"
   ]
  },
  {
   "cell_type": "code",
   "execution_count": 35,
   "metadata": {},
   "outputs": [],
   "source": [
    "#df['StatusTime'] = pd.to_datetime(df['StatusTime'])\n",
    "df['StatusTime'] = pd.to_datetime(df['StatusTime'])\n",
    "df2['StatusTime'] = pd.to_datetime(df2['StatusTime'])\n",
    "df3['StatusTime'] = pd.to_datetime(df3['StatusTime'])\n",
    "df6['StatusTime'] = pd.to_datetime(df6['StatusTime'])\n",
    "df10['StatusTime'] = pd.to_datetime(df10['StatusTime'])\n",
    "df11['StatusTime'] = pd.to_datetime(df11['StatusTime'])\n",
    "df12['StatusTime'] = pd.to_datetime(df12['StatusTime'])\n",
    "df13['StatusTime'] = pd.to_datetime(df13['StatusTime'])\n",
    "df14['StatusTime'] = pd.to_datetime(df14['StatusTime'])\n",
    "df15['StatusTime'] = pd.to_datetime(df15['StatusTime'])\n",
    "#print(df.dtypes)"
   ]
  },
  {
   "cell_type": "markdown",
   "metadata": {},
   "source": [
    "# 一日ごとのデータを作成する"
   ]
  },
  {
   "cell_type": "code",
   "execution_count": 41,
   "metadata": {},
   "outputs": [],
   "source": [
    "JR2016 = df[(df['StatusTime'] >= dt.datetime(2016,11,6,0,0,0,0)) & (df['StatusTime'] <= dt.datetime(2016,11,6,23,59,0,0))]\n",
    "JR2016_2 = df2[(df2['StatusTime'] >= dt.datetime(2016,11,6,0,0,0,0)) & (df2['StatusTime'] <= dt.datetime(2016,11,6,23,59,0,0))]\n",
    "JR2016_3 = df3[(df3['StatusTime'] >= dt.datetime(2016,11,6,0,0,0,0)) & (df3['StatusTime'] <= dt.datetime(2016,11,6,23,59,0,0))]\n",
    "JR2016_6 = df6[(df6['StatusTime'] >= dt.datetime(2016,11,6,0,0,0,0)) & (df6['StatusTime'] <= dt.datetime(2016,11,6,23,59,0,0))]\n",
    "JR2016_10 = df10[(df10['StatusTime'] >= dt.datetime(2016,11,6,0,0,0,0)) & (df10['StatusTime'] <= dt.datetime(2016,11,6,23,59,0,0))]\n",
    "JR2016_11 = df11[(df11['StatusTime'] >= dt.datetime(2016,11,6,0,0,0,0)) & (df11['StatusTime'] <= dt.datetime(2016,11,6,23,59,0,0))]\n",
    "JR2016_12 = df12[(df12['StatusTime'] >= dt.datetime(2016,11,6,0,0,0,0)) & (df12['StatusTime'] <= dt.datetime(2016,11,6,23,59,0,0))]\n",
    "JR2016_13 = df13[(df13['StatusTime'] >= dt.datetime(2016,11,6,0,0,0,0)) & (df13['StatusTime'] <= dt.datetime(2016,11,6,23,59,0,0))]\n",
    "JR2016_14 = df14[(df14['StatusTime'] >= dt.datetime(2016,11,6,0,0,0,0)) & (df14['StatusTime'] <= dt.datetime(2016,11,6,23,59,0,0))]\n",
    "JR2016_15 = df15[(df15['StatusTime'] >= dt.datetime(2016,11,6,0,0,0,0)) & (df15['StatusTime'] <= dt.datetime(2016,11,6,23,59,0,0))]"
   ]
  },
  {
   "cell_type": "code",
   "execution_count": 43,
   "metadata": {},
   "outputs": [],
   "source": [
    "JR2016 = df[(df['StatusTime'] >= dt.datetime(2016,11,7,0,0,0,0)) & (df['StatusTime'] <= dt.datetime(2016,11,7,23,59,0,0))]\n",
    "JR2016_2 = df2[(df2['StatusTime'] >= dt.datetime(2016,11,7,0,0,0,0)) & (df2['StatusTime'] <= dt.datetime(2016,11,7,23,59,0,0))]\n",
    "JR2016_3 = df3[(df3['StatusTime'] >= dt.datetime(2016,11,7,0,0,0,0)) & (df3['StatusTime'] <= dt.datetime(2016,11,7,23,59,0,0))]\n",
    "JR2016_6 = df6[(df6['StatusTime'] >= dt.datetime(2016,11,7,0,0,0,0)) & (df6['StatusTime'] <= dt.datetime(2016,11,7,23,59,0,0))]\n",
    "JR2016_10 = df10[(df10['StatusTime'] >= dt.datetime(2016,11,7,0,0,0,0)) & (df10['StatusTime'] <= dt.datetime(2016,11,7,23,59,0,0))]\n",
    "JR2016_11 = df11[(df11['StatusTime'] >= dt.datetime(2016,11,7,0,0,0,0)) & (df11['StatusTime'] <= dt.datetime(2016,11,7,23,59,0,0))]\n",
    "JR2016_12 = df12[(df12['StatusTime'] >= dt.datetime(2016,11,7,0,0,0,0)) & (df12['StatusTime'] <= dt.datetime(2016,11,7,23,59,0,0))]\n",
    "JR2016_13 = df13[(df13['StatusTime'] >= dt.datetime(2016,11,7,0,0,0,0)) & (df13['StatusTime'] <= dt.datetime(2016,11,7,23,59,0,0))]\n",
    "JR2016_14 = df14[(df14['StatusTime'] >= dt.datetime(2016,11,7,0,0,0,0)) & (df14['StatusTime'] <= dt.datetime(2016,11,7,23,59,0,0))]\n",
    "JR2016_15 = df15[(df15['StatusTime'] >= dt.datetime(2016,11,7,0,0,0,0)) & (df15['StatusTime'] <= dt.datetime(2016,11,7,23,59,0,0))]"
   ]
  },
  {
   "cell_type": "code",
   "execution_count": 45,
   "metadata": {},
   "outputs": [],
   "source": [
    "JR2016 = df[(df['StatusTime'] >= dt.datetime(2016,11,8,0,0,0,0)) & (df['StatusTime'] <= dt.datetime(2016,11,8,23,59,0,0))]\n",
    "JR2016_2 = df2[(df2['StatusTime'] >= dt.datetime(2016,11,8,0,0,0,0)) & (df2['StatusTime'] <= dt.datetime(2016,11,8,23,59,0,0))]\n",
    "JR2016_3 = df3[(df3['StatusTime'] >= dt.datetime(2016,11,8,0,0,0,0)) & (df3['StatusTime'] <= dt.datetime(2016,11,8,23,59,0,0))]\n",
    "JR2016_6 = df6[(df6['StatusTime'] >= dt.datetime(2016,11,8,0,0,0,0)) & (df6['StatusTime'] <= dt.datetime(2016,11,8,23,59,0,0))]\n",
    "JR2016_10 = df10[(df10['StatusTime'] >= dt.datetime(2016,11,8,0,0,0,0)) & (df10['StatusTime'] <= dt.datetime(2016,11,8,23,59,0,0))]\n",
    "JR2016_11 = df11[(df11['StatusTime'] >= dt.datetime(2016,11,8,0,0,0,0)) & (df11['StatusTime'] <= dt.datetime(2016,11,8,23,59,0,0))]\n",
    "JR2016_12 = df12[(df12['StatusTime'] >= dt.datetime(2016,11,8,0,0,0,0)) & (df12['StatusTime'] <= dt.datetime(2016,11,8,23,59,0,0))]\n",
    "JR2016_13 = df13[(df13['StatusTime'] >= dt.datetime(2016,11,8,0,0,0,0)) & (df13['StatusTime'] <= dt.datetime(2016,11,8,23,59,0,0))]\n",
    "JR2016_14 = df14[(df14['StatusTime'] >= dt.datetime(2016,11,8,0,0,0,0)) & (df14['StatusTime'] <= dt.datetime(2016,11,8,23,59,0,0))]\n",
    "JR2016_15 = df15[(df15['StatusTime'] >= dt.datetime(2016,11,8,0,0,0,0)) & (df15['StatusTime'] <= dt.datetime(2016,11,8,23,59,0,0))]"
   ]
  },
  {
   "cell_type": "code",
   "execution_count": 47,
   "metadata": {},
   "outputs": [],
   "source": [
    "JR2016 = df[(df['StatusTime'] >= dt.datetime(2016,11,9,0,0,0,0)) & (df['StatusTime'] <= dt.datetime(2016,11,9,23,59,0,0))]\n",
    "JR2016_2 = df2[(df2['StatusTime'] >= dt.datetime(2016,11,9,0,0,0,0)) & (df2['StatusTime'] <= dt.datetime(2016,11,9,23,59,0,0))]\n",
    "JR2016_3 = df3[(df3['StatusTime'] >= dt.datetime(2016,11,9,0,0,0,0)) & (df3['StatusTime'] <= dt.datetime(2016,11,9,23,59,0,0))]\n",
    "JR2016_6 = df6[(df6['StatusTime'] >= dt.datetime(2016,11,9,0,0,0,0)) & (df6['StatusTime'] <= dt.datetime(2016,11,9,23,59,0,0))]\n",
    "JR2016_10 = df10[(df10['StatusTime'] >= dt.datetime(2016,11,9,0,0,0,0)) & (df10['StatusTime'] <= dt.datetime(2016,11,9,23,59,0,0))]\n",
    "JR2016_11 = df11[(df11['StatusTime'] >= dt.datetime(2016,11,9,0,0,0,0)) & (df11['StatusTime'] <= dt.datetime(2016,11,9,23,59,0,0))]\n",
    "JR2016_12 = df12[(df12['StatusTime'] >= dt.datetime(2016,11,9,0,0,0,0)) & (df12['StatusTime'] <= dt.datetime(2016,11,9,23,59,0,0))]\n",
    "JR2016_13 = df13[(df13['StatusTime'] >= dt.datetime(2016,11,9,0,0,0,0)) & (df13['StatusTime'] <= dt.datetime(2016,11,9,23,59,0,0))]\n",
    "JR2016_14 = df14[(df14['StatusTime'] >= dt.datetime(2016,11,9,0,0,0,0)) & (df14['StatusTime'] <= dt.datetime(2016,11,9,23,59,0,0))]\n",
    "JR2016_15 = df15[(df15['StatusTime'] >= dt.datetime(2016,11,9,0,0,0,0)) & (df15['StatusTime'] <= dt.datetime(2016,11,9,23,59,0,0))]"
   ]
  },
  {
   "cell_type": "code",
   "execution_count": 42,
   "metadata": {},
   "outputs": [],
   "source": [
    "JR2016.to_csv('../JR2016data/Decenber/6th/JR20161106_0.csv')\n",
    "JR2016_2.to_csv('../JR2016data/Decenber/6th/JR20161106_2.csv')\n",
    "JR2016_3.to_csv('../JR2016data/Decenber/6th/JR20161106_3.csv')\n",
    "JR2016_6.to_csv('../JR2016data/Decenber/6th/JR20161106_6.csv')\n",
    "JR2016_10.to_csv('../JR2016data/Decenber/6th/JR20161106_10.csv')\n",
    "JR2016_11.to_csv('../JR2016data/Decenber/6th/JR20161106_11.csv')\n",
    "JR2016_12.to_csv('../JR2016data/Decenber/6th/JR20161106_12.csv')\n",
    "JR2016_13.to_csv('../JR2016data/Decenber/6th/JR20161106_13.csv')\n",
    "JR2016_14.to_csv('../JR2016data/Decenber/6th/JR20161106_14.csv')\n",
    "JR2016_15.to_csv('../JR2016data/Decenber/6th/JR20161106_15.csv')"
   ]
  },
  {
   "cell_type": "code",
   "execution_count": 44,
   "metadata": {},
   "outputs": [],
   "source": [
    "JR2016.to_csv('../JR2016data/Decenber/7th/JR20161107_0.csv')\n",
    "JR2016_2.to_csv('../JR2016data/Decenber/7th/JR20161107_2.csv')\n",
    "JR2016_3.to_csv('../JR2016data/Decenber/7th/JR20161107_3.csv')\n",
    "JR2016_6.to_csv('../JR2016data/Decenber/7th/JR20161107_6.csv')\n",
    "JR2016_10.to_csv('../JR2016data/Decenber/7th/JR20161107_10.csv')\n",
    "JR2016_11.to_csv('../JR2016data/Decenber/7th/JR20161107_11.csv')\n",
    "JR2016_12.to_csv('../JR2016data/Decenber/7th/JR20161107_12.csv')\n",
    "JR2016_13.to_csv('../JR2016data/Decenber/7th/JR20161107_13.csv')\n",
    "JR2016_14.to_csv('../JR2016data/Decenber/7th/JR20161107_14.csv')\n",
    "JR2016_15.to_csv('../JR2016data/Decenber/7th/JR20161107_15.csv')"
   ]
  },
  {
   "cell_type": "code",
   "execution_count": 46,
   "metadata": {},
   "outputs": [],
   "source": [
    "JR2016.to_csv('../JR2016data/Decenber/8th/JR20161108_0.csv')\n",
    "JR2016_2.to_csv('../JR2016data/Decenber/8th/JR20161108_2.csv')\n",
    "JR2016_3.to_csv('../JR2016data/Decenber/8th/JR20161108_3.csv')\n",
    "JR2016_6.to_csv('../JR2016data/Decenber/8th/JR20161108_6.csv')\n",
    "JR2016_10.to_csv('../JR2016data/Decenber/8th/JR20161108_10.csv')\n",
    "JR2016_11.to_csv('../JR2016data/Decenber/8th/JR20161108_11.csv')\n",
    "JR2016_12.to_csv('../JR2016data/Decenber/8th/JR20161108_12.csv')\n",
    "JR2016_13.to_csv('../JR2016data/Decenber/8th/JR20161108_13.csv')\n",
    "JR2016_14.to_csv('../JR2016data/Decenber/8th/JR20161108_14.csv')\n",
    "JR2016_15.to_csv('../JR2016data/Decenber/8th/JR20161108_15.csv')"
   ]
  },
  {
   "cell_type": "code",
   "execution_count": 48,
   "metadata": {},
   "outputs": [],
   "source": [
    "JR2016.to_csv('../JR2016data/Decenber/9th/JR20161109_0.csv')\n",
    "JR2016_2.to_csv('../JR2016data/Decenber/9th/JR20161109_2.csv')\n",
    "JR2016_3.to_csv('../JR2016data/Decenber/9th/JR20161109_3.csv')\n",
    "JR2016_6.to_csv('../JR2016data/Decenber/9th/JR20161109_6.csv')\n",
    "JR2016_10.to_csv('../JR2016data/Decenber/9th/JR20161109_10.csv')\n",
    "JR2016_11.to_csv('../JR2016data/Decenber/9th/JR20161109_11.csv')\n",
    "JR2016_12.to_csv('../JR2016data/Decenber/9th/JR20161109_12.csv')\n",
    "JR2016_13.to_csv('../JR2016data/Decenber/9th/JR20161109_13.csv')\n",
    "JR2016_14.to_csv('../JR2016data/Decenber/9th/JR20161109_14.csv')\n",
    "JR2016_15.to_csv('../JR2016data/Decenber/9th/JR20161109_15.csv')"
   ]
  }
 ],
 "metadata": {
  "kernelspec": {
   "display_name": "Python 3",
   "language": "python",
   "name": "python3"
  },
  "language_info": {
   "codemirror_mode": {
    "name": "ipython",
    "version": 3
   },
   "file_extension": ".py",
   "mimetype": "text/x-python",
   "name": "python",
   "nbconvert_exporter": "python",
   "pygments_lexer": "ipython3",
   "version": "3.7.1"
  }
 },
 "nbformat": 4,
 "nbformat_minor": 2
}
