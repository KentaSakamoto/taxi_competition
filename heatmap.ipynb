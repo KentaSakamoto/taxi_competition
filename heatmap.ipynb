{
 "cells": [
  {
   "cell_type": "markdown",
   "metadata": {},
   "source": [
    "## 11/4 ~ 11/9のヒートマップを作成する"
   ]
  },
  {
   "cell_type": "code",
   "execution_count": 1,
   "metadata": {},
   "outputs": [],
   "source": [
    "import pandas as pd\n",
    "import folium\n",
    "from folium.plugins import HeatMap"
   ]
  },
  {
   "cell_type": "code",
   "execution_count": 2,
   "metadata": {},
   "outputs": [],
   "source": [
    "df = pd.read_csv('../data/JR20161104flag.csv', sep=',', index_col=0, encoding=\"cp932\")\n",
    "df2 = pd.read_csv('../data/JR20161105flag.csv', sep=',', index_col=0, encoding=\"cp932\")\n",
    "df3 = pd.read_csv('../data/JR20161106flag.csv', sep=',', index_col=0, encoding=\"cp932\")\n",
    "df4 = pd.read_csv('../data/JR20161107flag.csv', sep=',', index_col=0, encoding=\"cp932\")\n",
    "df5 = pd.read_csv('../data/JR20161108flag.csv', sep=',', index_col=0, encoding=\"cp932\")\n",
    "df6 = pd.read_csv('../data/JR20161109flag.csv', sep=',', index_col=0, encoding=\"cp932\")\n",
    "hospital = pd.read_csv('../data/tokyo_hospital3.csv', sep=',', index_col=0, encoding=\"cp932\")"
   ]
  },
  {
   "cell_type": "code",
   "execution_count": 3,
   "metadata": {},
   "outputs": [
    {
     "data": {
      "text/html": [
       "<div>\n",
       "<style scoped>\n",
       "    .dataframe tbody tr th:only-of-type {\n",
       "        vertical-align: middle;\n",
       "    }\n",
       "\n",
       "    .dataframe tbody tr th {\n",
       "        vertical-align: top;\n",
       "    }\n",
       "\n",
       "    .dataframe thead th {\n",
       "        text-align: right;\n",
       "    }\n",
       "</style>\n",
       "<table border=\"1\" class=\"dataframe\">\n",
       "  <thead>\n",
       "    <tr style=\"text-align: right;\">\n",
       "      <th></th>\n",
       "      <th>経営主体</th>\n",
       "      <th>病院名</th>\n",
       "      <th>病床数</th>\n",
       "      <th>住所</th>\n",
       "      <th>電話</th>\n",
       "      <th>lat</th>\n",
       "      <th>lng</th>\n",
       "    </tr>\n",
       "  </thead>\n",
       "  <tbody>\n",
       "    <tr>\n",
       "      <th>4</th>\n",
       "      <td>国立大学法人</td>\n",
       "      <td>東京医科歯科大学医学部附属病院</td>\n",
       "      <td>753</td>\n",
       "      <td>東京都文京区湯島1-5-45</td>\n",
       "      <td>03-3813-6111</td>\n",
       "      <td>35.701696</td>\n",
       "      <td>139.764209</td>\n",
       "    </tr>\n",
       "    <tr>\n",
       "      <th>5</th>\n",
       "      <td>国立大学法人</td>\n",
       "      <td>東京大学医学部附属病院</td>\n",
       "      <td>1228</td>\n",
       "      <td>東京都文京区本郷7-3-1</td>\n",
       "      <td>03-3815-5411</td>\n",
       "      <td>35.714163</td>\n",
       "      <td>139.762102</td>\n",
       "    </tr>\n",
       "    <tr>\n",
       "      <th>17</th>\n",
       "      <td>都道府県</td>\n",
       "      <td>東京都立駒込病院</td>\n",
       "      <td>815</td>\n",
       "      <td>東京都文京区本駒込3-18-22</td>\n",
       "      <td>03-3823-2101</td>\n",
       "      <td>35.729843</td>\n",
       "      <td>139.756393</td>\n",
       "    </tr>\n",
       "    <tr>\n",
       "      <th>115</th>\n",
       "      <td>医療法人</td>\n",
       "      <td>東都文京病院</td>\n",
       "      <td>126</td>\n",
       "      <td>東京都文京区湯島3-5-7</td>\n",
       "      <td>03-3831-2181</td>\n",
       "      <td>35.704205</td>\n",
       "      <td>139.767849</td>\n",
       "    </tr>\n",
       "    <tr>\n",
       "      <th>160</th>\n",
       "      <td>私立学校法人</td>\n",
       "      <td>順天堂大学医学部附属順天堂医院</td>\n",
       "      <td>1032</td>\n",
       "      <td>東京都文京区本郷3-1-3</td>\n",
       "      <td>03-3813-3111</td>\n",
       "      <td>35.702405</td>\n",
       "      <td>139.762606</td>\n",
       "    </tr>\n",
       "    <tr>\n",
       "      <th>172</th>\n",
       "      <td>私立学校法人</td>\n",
       "      <td>日本医科大学付属病院</td>\n",
       "      <td>897</td>\n",
       "      <td>東京都文京区千駄木１丁目１番５号</td>\n",
       "      <td>03-3822-2131</td>\n",
       "      <td>35.721143</td>\n",
       "      <td>139.758969</td>\n",
       "    </tr>\n",
       "    <tr>\n",
       "      <th>192</th>\n",
       "      <td>医療生協</td>\n",
       "      <td>東京健生病院</td>\n",
       "      <td>126</td>\n",
       "      <td>東京都文京区大塚4-3-8</td>\n",
       "      <td>03-3944-6111</td>\n",
       "      <td>35.724521</td>\n",
       "      <td>139.736004</td>\n",
       "    </tr>\n",
       "  </tbody>\n",
       "</table>\n",
       "</div>"
      ],
      "text/plain": [
       "       経営主体              病院名   病床数                住所            電話        lat  \\\n",
       "4    国立大学法人  東京医科歯科大学医学部附属病院   753    東京都文京区湯島1-5-45  03-3813-6111  35.701696   \n",
       "5    国立大学法人      東京大学医学部附属病院  1228     東京都文京区本郷7-3-1  03-3815-5411  35.714163   \n",
       "17     都道府県         東京都立駒込病院   815  東京都文京区本駒込3-18-22  03-3823-2101  35.729843   \n",
       "115    医療法人           東都文京病院   126     東京都文京区湯島3-5-7  03-3831-2181  35.704205   \n",
       "160  私立学校法人  順天堂大学医学部附属順天堂医院  1032     東京都文京区本郷3-1-3  03-3813-3111  35.702405   \n",
       "172  私立学校法人       日本医科大学付属病院   897  東京都文京区千駄木１丁目１番５号  03-3822-2131  35.721143   \n",
       "192    医療生協           東京健生病院   126     東京都文京区大塚4-3-8  03-3944-6111  35.724521   \n",
       "\n",
       "            lng  \n",
       "4    139.764209  \n",
       "5    139.762102  \n",
       "17   139.756393  \n",
       "115  139.767849  \n",
       "160  139.762606  \n",
       "172  139.758969  \n",
       "192  139.736004  "
      ]
     },
     "execution_count": 3,
     "metadata": {},
     "output_type": "execute_result"
    }
   ],
   "source": [
    "hospital = hospital[hospital['住所'].str.contains('文京区')]\n",
    "hospital"
   ]
  },
  {
   "cell_type": "code",
   "execution_count": 4,
   "metadata": {},
   "outputs": [],
   "source": [
    "map1 = folium.Map(location=[35.707657, 139.762961], zoom_start=18) # 中心は本郷消防署に定める\n",
    "map2 = folium.Map(location=[35.718967, 139.743006], zoom_start=18) # 中心は小石川消防署に定める"
   ]
  },
  {
   "cell_type": "code",
   "execution_count": 5,
   "metadata": {},
   "outputs": [
    {
     "data": {
      "text/html": [
       "<div style=\"width:100%;\"><div style=\"position:relative;width:100%;height:0;padding-bottom:60%;\"><iframe src=\"data:text/html;charset=utf-8;base64,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\" style=\"position:absolute;width:100%;height:100%;left:0;top:0;border:none !important;\" allowfullscreen webkitallowfullscreen mozallowfullscreen></iframe></div></div>"
      ],
      "text/plain": [
       "<folium.folium.Map at 0x14c3df695c0>"
      ]
     },
     "execution_count": 5,
     "metadata": {},
     "output_type": "execute_result"
    }
   ],
   "source": [
    "for i, r in hospital.iterrows():\n",
    "    folium.Marker(location=[r['lat'], r['lng']], popup=r['病院名']).add_to(map1)\n",
    "    \n",
    "map1 #mapに病院の位置情報をすべて格納\n",
    "\n",
    "for i, r in hospital.iterrows():\n",
    "    folium.Marker(location=[r['lat'], r['lng']], popup=r['病院名']).add_to(map2)\n",
    "    \n",
    "map2 #mapに病院の位置情報をすべて格納"
   ]
  },
  {
   "cell_type": "code",
   "execution_count": 6,
   "metadata": {},
   "outputs": [
    {
     "data": {
      "text/plain": [
       "<folium.plugins.heat_map.HeatMap at 0x14c3efe7780>"
      ]
     },
     "execution_count": 6,
     "metadata": {},
     "output_type": "execute_result"
    }
   ],
   "source": [
    "HeatMap(data = df2[[\"LATITUDE\",\"LONGITUDE\"]], radius=3, blur=6).add_to(map1)\n",
    "HeatMap(data = df2[[\"LATITUDE\",\"LONGITUDE\"]], radius=3, blur=6).add_to(map2)"
   ]
  },
  {
   "cell_type": "code",
   "execution_count": 7,
   "metadata": {},
   "outputs": [],
   "source": [
    "map1.save(\"../maps/本郷消防署.html\")\n",
    "map2.save(\"../maps/小石川消防署.html\")"
   ]
  }
 ],
 "metadata": {
  "kernelspec": {
   "display_name": "Python 3",
   "language": "python",
   "name": "python3"
  },
  "language_info": {
   "codemirror_mode": {
    "name": "ipython",
    "version": 3
   },
   "file_extension": ".py",
   "mimetype": "text/x-python",
   "name": "python",
   "nbconvert_exporter": "python",
   "pygments_lexer": "ipython3",
   "version": "3.7.1"
  }
 },
 "nbformat": 4,
 "nbformat_minor": 2
}
